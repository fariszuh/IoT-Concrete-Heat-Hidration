{
  "nbformat": 4,
  "nbformat_minor": 0,
  "metadata": {
    "colab": {
      "name": "[Beton Ajek] hitungan condition if jeda pengukuran.ipynb",
      "provenance": [],
      "collapsed_sections": []
    },
    "kernelspec": {
      "name": "python3",
      "display_name": "Python 3"
    },
    "language_info": {
      "name": "python"
    }
  },
  "cells": [
    {
      "cell_type": "code",
      "execution_count": 18,
      "metadata": {
        "id": "DFHEY9wbFfTs"
      },
      "outputs": [],
      "source": [
        "jedaMenit =  20\n",
        "jedaDetik = 20\n",
        "\n",
        "maxMenit = 60\n",
        "maxDetik = 60"
      ]
    },
    {
      "cell_type": "code",
      "source": [
        "for menit in range(0,maxMenit,10):\n",
        "  for detik in range(0,maxDetik,10):\n",
        "    #jika jeda untuk detik, condition: detik%jedaDetik==0 saja\n",
        "    #jika jeda untuk menit, condition: detik%60==0 and menit%jedaMenit==0\n",
        "    #jika jeda untuk jam, condition: detik%60==0 and menit%60==0 and jam%jedaJam==0\n",
        "\n",
        "    if detik%60==0 and menit%jedaMenit==0:\n",
        "      status = \"aktif\"\n",
        "    else:\n",
        "      status = \"-----\"\n",
        "    print(\"menit: {} , detik: {}, status: {}\".format(menit,detik,status))"
      ],
      "metadata": {
        "colab": {
          "base_uri": "https://localhost:8080/"
        },
        "id": "0h8mNjq7FpdJ",
        "outputId": "d263ad00-f4c8-453c-8d73-0431b8cdc620"
      },
      "execution_count": 25,
      "outputs": [
        {
          "output_type": "stream",
          "name": "stdout",
          "text": [
            "menit: 0 , detik: 0, status: aktif\n",
            "menit: 0 , detik: 10, status: -----\n",
            "menit: 0 , detik: 20, status: -----\n",
            "menit: 0 , detik: 30, status: -----\n",
            "menit: 0 , detik: 40, status: -----\n",
            "menit: 0 , detik: 50, status: -----\n",
            "menit: 10 , detik: 0, status: -----\n",
            "menit: 10 , detik: 10, status: -----\n",
            "menit: 10 , detik: 20, status: -----\n",
            "menit: 10 , detik: 30, status: -----\n",
            "menit: 10 , detik: 40, status: -----\n",
            "menit: 10 , detik: 50, status: -----\n",
            "menit: 20 , detik: 0, status: aktif\n",
            "menit: 20 , detik: 10, status: -----\n",
            "menit: 20 , detik: 20, status: -----\n",
            "menit: 20 , detik: 30, status: -----\n",
            "menit: 20 , detik: 40, status: -----\n",
            "menit: 20 , detik: 50, status: -----\n",
            "menit: 30 , detik: 0, status: -----\n",
            "menit: 30 , detik: 10, status: -----\n",
            "menit: 30 , detik: 20, status: -----\n",
            "menit: 30 , detik: 30, status: -----\n",
            "menit: 30 , detik: 40, status: -----\n",
            "menit: 30 , detik: 50, status: -----\n",
            "menit: 40 , detik: 0, status: aktif\n",
            "menit: 40 , detik: 10, status: -----\n",
            "menit: 40 , detik: 20, status: -----\n",
            "menit: 40 , detik: 30, status: -----\n",
            "menit: 40 , detik: 40, status: -----\n",
            "menit: 40 , detik: 50, status: -----\n",
            "menit: 50 , detik: 0, status: -----\n",
            "menit: 50 , detik: 10, status: -----\n",
            "menit: 50 , detik: 20, status: -----\n",
            "menit: 50 , detik: 30, status: -----\n",
            "menit: 50 , detik: 40, status: -----\n",
            "menit: 50 , detik: 50, status: -----\n"
          ]
        }
      ]
    }
  ]
}